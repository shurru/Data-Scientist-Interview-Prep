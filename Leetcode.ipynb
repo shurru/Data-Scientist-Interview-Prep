{
 "cells": [
  {
   "cell_type": "markdown",
   "id": "revised-italic",
   "metadata": {},
   "source": [
    "1.Two Sum "
   ]
  },
  {
   "cell_type": "code",
   "execution_count": 15,
   "id": "continuing-seven",
   "metadata": {},
   "outputs": [
    {
     "data": {
      "text/plain": [
       "[0, 1]"
      ]
     },
     "execution_count": 15,
     "metadata": {},
     "output_type": "execute_result"
    }
   ],
   "source": [
    "def twoSum(nums, target):\n",
    "    l_array= len(nums)\n",
    "    for i in range (0, l_array-1): \n",
    "        for j in range (i+1,l_array):\n",
    "            if nums[i]+nums[j]== target: \n",
    "                return [i,j]\n",
    "            else: \n",
    "                continue \n",
    "twoSum([2,7,11,15], 9)"
   ]
  },
  {
   "cell_type": "markdown",
   "id": "artistic-arbitration",
   "metadata": {},
   "source": [
    "7. Reverse Integer"
   ]
  },
  {
   "cell_type": "code",
   "execution_count": 124,
   "id": "religious-majority",
   "metadata": {},
   "outputs": [
    {
     "data": {
      "text/plain": [
       "-321"
      ]
     },
     "execution_count": 124,
     "metadata": {},
     "output_type": "execute_result"
    }
   ],
   "source": [
    "def reverse(x): \n",
    "    if x>0 : \n",
    "        rev_dig= int(str(x)[::-1])\n",
    "            \n",
    "    else: \n",
    "        rev_dig= -int(str(abs(x))[::-1])\n",
    "\n",
    "    if rev_dig >= (-2**31) and rev_dig <= ((2**31)-1): \n",
    "        return rev_dig \n",
    "    else: \n",
    "        return 0 \n",
    "    \n",
    "reverse(-123)"
   ]
  },
  {
   "cell_type": "markdown",
   "id": "incoming-anger",
   "metadata": {},
   "source": [
    "13. Convert Roman to Numeral"
   ]
  },
  {
   "cell_type": "code",
   "execution_count": 180,
   "id": "looking-digit",
   "metadata": {},
   "outputs": [
    {
     "name": "stdout",
     "output_type": "stream",
     "text": [
      "1994\n"
     ]
    }
   ],
   "source": [
    "s= \"MCMXCIV\"     \n",
    "## rules \n",
    "        \n",
    "        ## if I before V or X : 4, 9 \n",
    "        ## if X before L and C : 40, 90 \n",
    "        ## if C before D and M : 400, 900\n",
    "        ## largest to smallest \n",
    "\n",
    "converted_number = 0 \n",
    "last= 0 \n",
    "\n",
    "roman_dict= {'I':1, 'V':5, 'X':10,'L': 50,'C': 100,'D':500,'M' :1000}\n",
    "\n",
    "for i in reversed(s):\n",
    "    num= roman_dict[i]\n",
    "    if 4*num < converted_number:\n",
    "         converted_number-= num\n",
    "    else:\n",
    "         converted_number += num\n",
    "\n",
    "print (converted_number)\n",
    "    "
   ]
  },
  {
   "cell_type": "code",
   "execution_count": 189,
   "id": "peripheral-portal",
   "metadata": {},
   "outputs": [
    {
     "name": "stdout",
     "output_type": "stream",
     "text": [
      "1994\n"
     ]
    }
   ],
   "source": [
    "## Alternate way to appraoch it \n",
    "roman_dict= {'I':1, 'V':5, 'X':10,'L': 50,'C': 100,'D':500,'M' :1000}\n",
    "total= 0 \n",
    "s_len= len(s)\n",
    "for i in range(s_len):\n",
    "    if(i < s_len):\n",
    "        if(s[i] == 'I' and s[i+1] == 'V'):\n",
    "            total -= 1\n",
    "        elif(s[i] == 'I' and s[i+1] == 'X'):\n",
    "            total -= 1\n",
    "        elif(s[i] == 'X' and s[i+1] == 'L'):\n",
    "            total -= 10\n",
    "        elif(s[i] == 'X' and s[i+1] == 'C'):\n",
    "            total -= 10 \n",
    "        elif(s[i] == 'C' and s[i+1] == 'D'):\n",
    "            total -= 100\n",
    "        elif(s[i] == 'C' and s[i+1] == 'M'):\n",
    "            total -= 100\n",
    "        else:\n",
    "            total += roman_dict[s[i]]\n",
    "    else:\n",
    "        total += roman_dict[s[i]]\n",
    "        \n",
    "print(total)"
   ]
  },
  {
   "cell_type": "markdown",
   "id": "revised-phrase",
   "metadata": {},
   "source": [
    "14. Longest Common Prefix"
   ]
  },
  {
   "cell_type": "code",
   "execution_count": 174,
   "id": "chinese-protest",
   "metadata": {},
   "outputs": [
    {
     "data": {
      "text/plain": [
       "''"
      ]
     },
     "execution_count": 174,
     "metadata": {},
     "output_type": "execute_result"
    }
   ],
   "source": [
    "def longestCommonPrefix(strs): \n",
    "    ## take the first string in the list\n",
    "    pre = strs[0]\n",
    "    for i in strs:        \n",
    "        while not i.startswith(pre):\n",
    "            pre = pre[:-1]\n",
    "#             print (pre)\n",
    "\n",
    "    return pre     \n",
    "\n",
    "longestCommonPrefix([\"flower\",\"flow\",\"flight\"])\n",
    "longestCommonPrefix([\"dog\",\"racecar\",\"car\"])"
   ]
  },
  {
   "cell_type": "markdown",
   "id": "destroyed-scoop",
   "metadata": {},
   "source": [
    "412. FizzBuzz"
   ]
  },
  {
   "cell_type": "code",
   "execution_count": 21,
   "id": "driving-figure",
   "metadata": {},
   "outputs": [
    {
     "data": {
      "text/plain": [
       "[1, 2, 'Fizz']"
      ]
     },
     "execution_count": 21,
     "metadata": {},
     "output_type": "execute_result"
    }
   ],
   "source": [
    "def fizzBuzz(n):\n",
    "    answer_list= []\n",
    "    for i in range(1, n+1): \n",
    "        if i%3==0 and i%5==0:\n",
    "            answer_list.append(\"FizzBuzz\")\n",
    "        elif i%3==0 : \n",
    "            answer_list.append(\"Fizz\")\n",
    "        elif i%5==0: \n",
    "            answer_list.append(\"Buzz\")\n",
    "        else: \n",
    "            answer_list.append(i)\n",
    "    return answer_list\n",
    "\n",
    "fizzBuzz(3)\n",
    "                "
   ]
  },
  {
   "cell_type": "markdown",
   "id": "overall-lightweight",
   "metadata": {},
   "source": [
    "20. Valid Parentheses"
   ]
  },
  {
   "cell_type": "code",
   "execution_count": 125,
   "id": "downtown-botswana",
   "metadata": {},
   "outputs": [
    {
     "data": {
      "text/plain": [
       "True"
      ]
     },
     "execution_count": 125,
     "metadata": {},
     "output_type": "execute_result"
    }
   ],
   "source": [
    "def validParentheses(input_str): \n",
    "    ## Create a dictionary of matching brackets- also could be a hashmap\n",
    "    matching_brackets={')':'(',']':'[','}':'{'}\n",
    "    \n",
    "    stack=[]\n",
    "    for c in input_str: \n",
    "        if c in matching_brackets:\n",
    "            if stack and stack[-1]==matching_brackets[c]: \n",
    "                stack.pop()\n",
    "            else: \n",
    "                return False \n",
    "        else: \n",
    "            stack.append(c)\n",
    "    return True if not stack else False\n",
    "    \n",
    "    \n",
    "validParentheses('()')\n",
    "# validParentheses('(]')"
   ]
  },
  {
   "cell_type": "markdown",
   "id": "colonial-instruction",
   "metadata": {},
   "source": [
    "26. Remove Duplicates from Sorted Array"
   ]
  },
  {
   "cell_type": "code",
   "execution_count": 160,
   "id": "eastern-beast",
   "metadata": {},
   "outputs": [
    {
     "data": {
      "text/plain": [
       "(5, [0, 1, 2, 3, 4, 1, 1, 1, 1, 1])"
      ]
     },
     "execution_count": 160,
     "metadata": {},
     "output_type": "execute_result"
    }
   ],
   "source": [
    "def removeDuplicates(nums): \n",
    "    import numpy as np \n",
    "    unique= np.unique(nums)\n",
    "    diff= len(nums)-len(unique)\n",
    "    padder= np.ones(diff, dtype= int)\n",
    "    new_list= np.append(unique, padder)\n",
    "    return len(unique), list(new_list)\n",
    "    \n",
    "removeDuplicates([0,0,1,1,1,2,2,3,3,4])\n"
   ]
  },
  {
   "cell_type": "markdown",
   "id": "insured-creativity",
   "metadata": {},
   "source": [
    "53. Maximum Subarray\n"
   ]
  },
  {
   "cell_type": "code",
   "execution_count": 137,
   "id": "informed-vatican",
   "metadata": {},
   "outputs": [
    {
     "name": "stdout",
     "output_type": "stream",
     "text": [
      "[4, -1, 2, 1]\n"
     ]
    },
    {
     "data": {
      "text/plain": [
       "6"
      ]
     },
     "execution_count": 137,
     "metadata": {},
     "output_type": "execute_result"
    }
   ],
   "source": [
    "def max_subarray(nums):\n",
    "    maxSum = nums[0]\n",
    "    curSum = 0\n",
    "    curSubArray = []\n",
    "    maxSubArray = [nums[0]]\n",
    "    for n in nums:\n",
    "        if curSum <= 0:\n",
    "            curSum = 0\n",
    "            curSubArray = []\n",
    "        curSum += n\n",
    "        curSubArray.append(n)\n",
    "        if curSum > maxSum:\n",
    "            maxSum = max(maxSum, curSum)\n",
    "            maxSubArray = curSubArray[:]\n",
    "    print(maxSubArray)\n",
    "    return maxSum\n",
    "\n",
    "max_subarray([-2,1,-3,4,-1,2,1,-5,4])\n",
    "    "
   ]
  },
  {
   "cell_type": "markdown",
   "id": "adjacent-catalyst",
   "metadata": {},
   "source": [
    "463. Island Perimeter"
   ]
  },
  {
   "cell_type": "code",
   "execution_count": 106,
   "id": "transparent-honey",
   "metadata": {},
   "outputs": [
    {
     "data": {
      "text/plain": [
       "16"
      ]
     },
     "execution_count": 106,
     "metadata": {},
     "output_type": "execute_result"
    }
   ],
   "source": [
    "def islandPerimeter(grid): \n",
    "    r= len(grid)\n",
    "    c= len(grid[0])\n",
    "    p= 0\n",
    "    for i in range(r): \n",
    "        for j in range(c): \n",
    "            if grid[i][j]==0:\n",
    "                continue\n",
    "            p= p + 4\n",
    "            if i>0: p= p- grid[i-1][j]\n",
    "            if j>0: p =p- grid [i][j-1]\n",
    "            if i<r-1: p=p- grid[i+1][j]\n",
    "            if j< c- 1: p=p- grid[i][j+1]\n",
    "                \n",
    "    return p\n",
    "    \n",
    "islandPerimeter( [[0,1,0,0],\n",
    "          [1,1,1,0],\n",
    "          [0,1,0,0],\n",
    "          [1,1,0,0]]\n",
    "       )          \n"
   ]
  },
  {
   "cell_type": "markdown",
   "id": "victorian-ozone",
   "metadata": {},
   "source": [
    "344. Reverse String"
   ]
  },
  {
   "cell_type": "code",
   "execution_count": 136,
   "id": "interested-pixel",
   "metadata": {},
   "outputs": [],
   "source": [
    "s = [\"h\",\"e\",\"l\",\"l\",\"o\"]\n",
    "s[:]= s[::-1]    "
   ]
  },
  {
   "cell_type": "markdown",
   "id": "developed-ancient",
   "metadata": {},
   "source": [
    "1221. Split a string in balanced strings"
   ]
  },
  {
   "cell_type": "code",
   "execution_count": 164,
   "id": "european-diploma",
   "metadata": {},
   "outputs": [
    {
     "data": {
      "text/plain": [
       "4"
      ]
     },
     "execution_count": 164,
     "metadata": {},
     "output_type": "execute_result"
    }
   ],
   "source": [
    "def balancedStringSplit( s):\n",
    "    balanced_count= 0 \n",
    "    count=0 \n",
    "    for i in range(0, len(s)): \n",
    "        if s[i]=='L': \n",
    "            count= count+ 1 \n",
    "        if s[i]=='R': \n",
    "            count= count-1 \n",
    "        if count==0: \n",
    "            balanced_count+= 1\n",
    "\n",
    "    return balanced_count\n",
    "\n",
    "balancedStringSplit(\"RLRRLLRLRL\")"
   ]
  },
  {
   "cell_type": "markdown",
   "id": "green-employer",
   "metadata": {},
   "source": [
    "##### 1929. Concatenation of Array "
   ]
  },
  {
   "cell_type": "code",
   "execution_count": 190,
   "id": "wireless-chocolate",
   "metadata": {},
   "outputs": [
    {
     "data": {
      "text/plain": [
       "[1, 2, 1, 1, 2, 1]"
      ]
     },
     "execution_count": 190,
     "metadata": {},
     "output_type": "execute_result"
    }
   ],
   "source": [
    "def getConcatenation(nums): \n",
    "    new_list= nums\n",
    "    new_list.extend(nums)\n",
    "    return new_list\n",
    "\n",
    "getConcatenation([1,2,1])"
   ]
  },
  {
   "cell_type": "code",
   "execution_count": null,
   "id": "improving-warner",
   "metadata": {},
   "outputs": [],
   "source": []
  }
 ],
 "metadata": {
  "kernelspec": {
   "display_name": "Python 3",
   "language": "python",
   "name": "python3"
  },
  "language_info": {
   "codemirror_mode": {
    "name": "ipython",
    "version": 3
   },
   "file_extension": ".py",
   "mimetype": "text/x-python",
   "name": "python",
   "nbconvert_exporter": "python",
   "pygments_lexer": "ipython3",
   "version": "3.9.6"
  }
 },
 "nbformat": 4,
 "nbformat_minor": 5
}
